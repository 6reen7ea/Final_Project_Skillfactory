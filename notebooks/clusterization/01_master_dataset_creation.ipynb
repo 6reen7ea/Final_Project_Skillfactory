{
 "cells": [
  {
   "cell_type": "markdown",
   "id": "f09f77b9",
   "metadata": {},
   "source": [
    "# Создание мастер-датасета\n",
    "\n",
    "В этом ноутбуке загружаются 15 таблиц, содержащих социально-демографические, экономические и медицинские характеристики российских регионов.  \n",
    "Каждая из таблиц предварительно прошла этап EDA.  \n",
    "\n",
    "В рамках данного ноутбука выполняются следующие шаги:\n",
    "- загрузка финальных таблиц после очистки;\n",
    "- фильтрация по годам (2015–2020);\n",
    "- проверка и согласование названий регионов и структуры данных;\n",
    "- частичная агрегация, если необходимо;\n",
    "- объединение всех таблиц в единую мастер-таблицу;\n",
    "- сохранение финального мастер-датасета для последующего анализа.\n"
   ]
  },
  {
   "cell_type": "code",
   "execution_count": 32,
   "id": "1cd46c31",
   "metadata": {},
   "outputs": [],
   "source": [
    "import pandas as pd\n",
    "\n",
    "# Путь к папке с финальными версиями\n",
    "data_path = \"../../data/clean/\"\n",
    "\n",
    "# Загрузка\n",
    "df_poverty = pd.read_csv(data_path + \"poverty_AfterEDA.csv\")\n",
    "df_income = pd.read_csv(data_path + \"income_AfterEDA.csv\")\n",
    "df_socdem = pd.read_csv(data_path + \"socdem_AfterEDA.csv\")\n",
    "df_drug_alco = pd.read_csv(data_path + \"drug_alco_AfterEDA.csv\")\n",
    "df_morbidity = pd.read_csv(data_path + \"morbidity_AfterEDA.csv\")\n",
    "df_newborns = pd.read_csv(data_path + \"newborns_AfterEDA.csv\")\n",
    "df_housing = pd.read_csv(data_path + \"housing_AfterEDA.csv\")\n",
    "df_gross = pd.read_csv(data_path + \"gross_AfterEDA.csv\")\n",
    "df_population = pd.read_csv(data_path + \"population_AfterEDA.csv\")\n",
    "df_disabled = pd.read_csv(data_path + \"disabled_AfterEDA.csv\")\n",
    "df_child_mortality_rural = pd.read_csv(data_path + \"child_rural_AfterEDA.csv\")\n",
    "df_child_mortality_urban = pd.read_csv(data_path + \"child_urban_AfterEDA.csv\")\n",
    "df_retail = pd.read_csv(data_path + \"retail_AfterEDA.csv\")\n",
    "df_welfare = pd.read_csv(data_path + \"welfare_AfterEDA.csv\")\n",
    "df_regional_production = pd.read_csv(data_path + \"reg_production_AfterEDA.csv\")\n"
   ]
  },
  {
   "cell_type": "code",
   "execution_count": 33,
   "id": "e60cebaf",
   "metadata": {},
   "outputs": [],
   "source": [
    "# Ищет колонку с годами и оставляет нужный диапазон\n",
    "def filter_years(df, years=None):\n",
    "    # Все возможные названия колонки года\n",
    "    possible_cols = [\"year\", \"год\", \"Год\"]\n",
    "    \n",
    "    col = None\n",
    "    for c in possible_cols:\n",
    "        if c in df.columns:\n",
    "            col = c\n",
    "            break\n",
    "\n",
    "    if col is None:\n",
    "        raise ValueError(\"Не найден столбец 'year', 'год' или 'Год' в таблице.\")\n",
    "    \n",
    "    # Если аргумент years не передан, берем 2015–2020\n",
    "    if years is None:\n",
    "        years = list(range(2015, 2021))\n",
    "    \n",
    "    return df[df[col].isin(years)]\n",
    "\n",
    "\n",
    "# Применяем фильтрацию к таблицам, в которых есть год\n",
    "df_poverty = filter_years(df_poverty)\n",
    "df_income = filter_years(df_income)\n",
    "df_socdem = filter_years(df_socdem)\n",
    "df_drug_alco = filter_years(df_drug_alco)\n",
    "df_gross = filter_years(df_gross)\n",
    "df_population = filter_years(df_population)\n",
    "df_child_mortality_rural = filter_years(df_child_mortality_rural)\n",
    "df_child_mortality_urban = filter_years(df_child_mortality_urban)\n",
    "df_retail = filter_years(df_retail)\n",
    "df_welfare = filter_years(df_welfare)\n",
    "df_regional_production = filter_years(df_regional_production)\n",
    "df_newborns = filter_years(df_newborns)\n",
    "df_disabled = filter_years(df_disabled)"
   ]
  },
  {
   "cell_type": "code",
   "execution_count": 34,
   "id": "afb95d4a",
   "metadata": {},
   "outputs": [],
   "source": [
    "# Оставляем только 2015 и 2016\n",
    "morbidity_agg = (\n",
    "    df_morbidity\n",
    "    [df_morbidity[\"year\"].isin([2015, 2016])]\n",
    "    .groupby([\"region_standard\", \"year\"])[\"cases\"]\n",
    "    .sum()\n",
    "    .reset_index()\n",
    ")"
   ]
  },
  {
   "cell_type": "code",
   "execution_count": 35,
   "id": "66e392dc",
   "metadata": {},
   "outputs": [],
   "source": [
    "# Преобразуем в широкий формат\n",
    "drug_alco_pivot = (\n",
    "    df_drug_alco\n",
    "    .pivot_table(\n",
    "        index=[\"region_standard\", \"year\"],\n",
    "        columns=\"diagnosis\",\n",
    "        values=\"value\"\n",
    "    )\n",
    "    .reset_index()\n",
    ")\n",
    "\n",
    "# Переименуем колонки\n",
    "drug_alco_pivot.rename(columns={\n",
    "    \"alcohol\": \"alcohol_rate\",\n",
    "    \"drugs\": \"drugs_rate\"\n",
    "}, inplace=True)\n"
   ]
  },
  {
   "cell_type": "code",
   "execution_count": 36,
   "id": "18679476",
   "metadata": {},
   "outputs": [],
   "source": [
    "# Агрегируем объём производства по региону и году\n",
    "regional_production_agg = (\n",
    "    df_regional_production\n",
    "    .groupby([\"region_standard\", \"year\"])[\"value\"]\n",
    "    .sum()\n",
    "    .reset_index()\n",
    "    .rename(columns={\"value\": \"production_total\"})\n",
    ")"
   ]
  },
  {
   "cell_type": "code",
   "execution_count": 37,
   "id": "89551160",
   "metadata": {},
   "outputs": [],
   "source": [
    "# Словарь с таблицами\n",
    "tables = {\n",
    "    \"poverty\": df_poverty,\n",
    "    \"income\": df_income,\n",
    "    \"socdem\": df_socdem,\n",
    "    \"drug_alco\": drug_alco_pivot,\n",
    "    \"newborns\": df_newborns,\n",
    "    \"disabled\": df_disabled,\n",
    "    \"morbidity\": morbidity_agg,\n",
    "    \"housing\": df_housing,\n",
    "    \"workers\": df_gross,\n",
    "    \"population\": df_population,\n",
    "    \"child_mortality_rural\": df_child_mortality_rural,\n",
    "    \"child_mortality_urban\": df_child_mortality_urban,\n",
    "    \"retail\": df_retail,\n",
    "    \"welfare\": df_welfare,\n",
    "    \"regional_production\": regional_production_agg\n",
    "}\n",
    "\n",
    "# Стандартизация ключевых колонок\n",
    "for name, df in tables.items():\n",
    "    df.rename(columns={\n",
    "        \"Регион\": \"region\",\n",
    "        \"Год\": \"year\",\n",
    "        \"год\": \"year\",\n",
    "        \"Region\": \"region\",\n",
    "        \"Year\": \"year\"\n",
    "    }, inplace=True)\n",
    "    \n",
    "    # Если есть колонка 'region' — удалим или оставим только region_standard\n",
    "    if \"region\" in df.columns and \"region_standard\" not in df.columns:\n",
    "        df.rename(columns={\"region\": \"region_standard\"}, inplace=True)\n",
    "    elif \"region\" in df.columns and \"region_standard\" in df.columns:\n",
    "        df.drop(columns=[\"region\"], inplace=True)\n"
   ]
  },
  {
   "cell_type": "code",
   "execution_count": 38,
   "id": "189ddfdd",
   "metadata": {},
   "outputs": [
    {
     "name": "stdout",
     "output_type": "stream",
     "text": [
      "poverty                   — удалено 12 дубликатов\n",
      "income                    — удалено 0 дубликатов\n",
      "socdem                    — удалено 8 дубликатов\n",
      "drug_alco                 — удалено 0 дубликатов\n",
      "newborns                  — удалено 12 дубликатов\n",
      "disabled                  — удалено 0 дубликатов\n",
      "morbidity                 — удалено 0 дубликатов\n",
      "housing                   — удалено 0 дубликатов\n",
      "workers                   — удалено 12 дубликатов\n",
      "population                — удалено 7 дубликатов\n",
      "child_mortality_rural     — удалено 12 дубликатов\n",
      "child_mortality_urban     — удалено 12 дубликатов\n",
      "retail                    — удалено 14 дубликатов\n",
      "welfare                   — удалено 0 дубликатов\n",
      "regional_production       — удалено 0 дубликатов\n"
     ]
    }
   ],
   "source": [
    "# Удаление дубликатов по ключу region_standard + year\n",
    "for name, df in tables.items():\n",
    "    before = df.shape[0]\n",
    "    df.drop_duplicates(subset=[\"region_standard\", \"year\"], inplace=True)\n",
    "    after = df.shape[0]\n",
    "    print(f\"{name:<25} — удалено {before - after} дубликатов\")\n"
   ]
  },
  {
   "cell_type": "code",
   "execution_count": 39,
   "id": "957da64e",
   "metadata": {},
   "outputs": [],
   "source": [
    "# Начинаем сбор мастер-датасета с таблицы бедности\n",
    "master_df = df_poverty.copy()"
   ]
  },
  {
   "cell_type": "code",
   "execution_count": 40,
   "id": "79033e9e",
   "metadata": {},
   "outputs": [],
   "source": [
    "# Доходы\n",
    "master_df = master_df.merge(df_income, on=[\"region_standard\", \"year\"], how=\"left\")"
   ]
  },
  {
   "cell_type": "code",
   "execution_count": 41,
   "id": "c312c819",
   "metadata": {},
   "outputs": [],
   "source": [
    "# Соцдем\n",
    "master_df = master_df.merge(df_socdem, on=[\"region_standard\", \"year\"], how=\"left\")"
   ]
  },
  {
   "cell_type": "code",
   "execution_count": 42,
   "id": "91d0e2b4",
   "metadata": {},
   "outputs": [],
   "source": [
    "# Алкоголь и наркотики\n",
    "master_df = master_df.merge(drug_alco_pivot, on=[\"region_standard\", \"year\"], how=\"left\")"
   ]
  },
  {
   "cell_type": "code",
   "execution_count": 43,
   "id": "45eabfc2",
   "metadata": {},
   "outputs": [],
   "source": [
    "# Заболеваемость\n",
    "master_df = master_df.merge(morbidity_agg, on=[\"region_standard\", \"year\"], how=\"left\")"
   ]
  },
  {
   "cell_type": "code",
   "execution_count": 44,
   "id": "1ddbcea6",
   "metadata": {},
   "outputs": [],
   "source": [
    "# Рождаемость\n",
    "master_df = master_df.merge(df_newborns, on=[\"region_standard\", \"year\"], how=\"left\")"
   ]
  },
  {
   "cell_type": "code",
   "execution_count": 45,
   "id": "7978f0cf",
   "metadata": {},
   "outputs": [],
   "source": [
    "# Инвалидность\n",
    "master_df = master_df.merge(df_disabled, on=[\"region_standard\", \"year\"], how=\"left\")"
   ]
  },
  {
   "cell_type": "code",
   "execution_count": 46,
   "id": "bf0acc41",
   "metadata": {},
   "outputs": [],
   "source": [
    "# ВРП на душу населения\n",
    "master_df = master_df.merge(df_gross, on=[\"region_standard\", \"year\"], how=\"left\")"
   ]
  },
  {
   "cell_type": "code",
   "execution_count": 47,
   "id": "8d25f91b",
   "metadata": {},
   "outputs": [],
   "source": [
    "# Население\n",
    "master_df = master_df.merge(df_population, on=[\"region_standard\", \"year\"], how=\"left\")"
   ]
  },
  {
   "cell_type": "code",
   "execution_count": 48,
   "id": "a0a24c31",
   "metadata": {},
   "outputs": [],
   "source": [
    "# Детская смертность в сельской местности\n",
    "master_df = master_df.merge(df_child_mortality_rural, on=[\"region_standard\", \"year\"], how=\"left\")"
   ]
  },
  {
   "cell_type": "code",
   "execution_count": 49,
   "id": "2b27c7c6",
   "metadata": {},
   "outputs": [],
   "source": [
    "# Детская смертность в городах\n",
    "master_df = master_df.merge(df_child_mortality_urban, on=[\"region_standard\", \"year\"], how=\"left\")"
   ]
  },
  {
   "cell_type": "code",
   "execution_count": 50,
   "id": "b0d465e5",
   "metadata": {},
   "outputs": [],
   "source": [
    "# Розничная торговля\n",
    "master_df = master_df.merge(df_retail, on=[\"region_standard\", \"year\"], how=\"left\")"
   ]
  },
  {
   "cell_type": "code",
   "execution_count": 51,
   "id": "ffda989c",
   "metadata": {},
   "outputs": [],
   "source": [
    "# Социальное обеспечение\n",
    "master_df = master_df.merge(df_welfare, on=[\"region_standard\", \"year\"], how=\"left\")"
   ]
  },
  {
   "cell_type": "code",
   "execution_count": 52,
   "id": "0bada2e7",
   "metadata": {},
   "outputs": [],
   "source": [
    "# Региональное производство\n",
    "master_df = master_df.merge(regional_production_agg, on=[\"region_standard\", \"year\"], how=\"left\")"
   ]
  },
  {
   "cell_type": "code",
   "execution_count": 53,
   "id": "c3e5f855",
   "metadata": {},
   "outputs": [],
   "source": [
    "# Переименовываем столбцы\n",
    "master_df.rename(columns={\n",
    "    \"region_standard\": \"region\",\n",
    "    \"Дети в возрасте до 16 лет\": \"children_percent\",\n",
    "    \"Население старше трудоспособного возраста\": \"elderly_percent\",\n",
    "    \"Население трудоспособного возраста\": \"working_age_percent\",\n",
    "    \"cases\": \"crime_cases\",\n",
    "    \"ВРП_на_душу\": \"gdp_per_capita\",\n",
    "    \"Младенческая_смертность_x\": \"infant_mortality_rural\",\n",
    "    \"Младенческая_смертность_y\": \"infant_mortality_urban\",\n",
    "    \"Оборот_на_душу\": \"retail_per_capita\"\n",
    "}, inplace=True)\n"
   ]
  },
  {
   "cell_type": "code",
   "execution_count": 54,
   "id": "708aed42",
   "metadata": {},
   "outputs": [
    {
     "data": {
      "text/plain": [
       "crime_cases            0.666667\n",
       "alcohol_rate           0.400000\n",
       "drugs_rate             0.400000\n",
       "elderly_percent        0.356863\n",
       "children_percent       0.356863\n",
       "working_age_percent    0.356863\n",
       "18_30                  0.333333\n",
       "total                  0.333333\n",
       "31_40                  0.333333\n",
       "41_50                  0.333333\n",
       "51_60                  0.333333\n",
       "60_                    0.333333\n",
       "nominal_wage           0.062745\n",
       "real_wage              0.062745\n",
       "income_per_capita      0.062745\n",
       "real_income            0.062745\n",
       "welfare_percent        0.058824\n",
       "population             0.023529\n",
       "dtype: float64"
      ]
     },
     "execution_count": 54,
     "metadata": {},
     "output_type": "execute_result"
    }
   ],
   "source": [
    "# Только числовые признаки\n",
    "df_numeric = master_df.select_dtypes(include='number')\n",
    "\n",
    "# Вычисление доли пропусков\n",
    "missing_ratio = df_numeric.isnull().mean().sort_values(ascending=False)\n",
    "\n",
    "# Отображение признаков с пропусками\n",
    "missing_ratio[missing_ratio > 0]\n"
   ]
  },
  {
   "cell_type": "code",
   "execution_count": 55,
   "id": "ce9ee298",
   "metadata": {},
   "outputs": [
    {
     "name": "stderr",
     "output_type": "stream",
     "text": [
      "/Library/Frameworks/Python.framework/Versions/3.9/lib/python3.9/site-packages/numpy/lib/nanfunctions.py:1215: RuntimeWarning: Mean of empty slice\n",
      "  return np.nanmean(a, axis, out=out, keepdims=keepdims)\n",
      "/Library/Frameworks/Python.framework/Versions/3.9/lib/python3.9/site-packages/numpy/lib/nanfunctions.py:1215: RuntimeWarning: Mean of empty slice\n",
      "  return np.nanmean(a, axis, out=out, keepdims=keepdims)\n",
      "/Library/Frameworks/Python.framework/Versions/3.9/lib/python3.9/site-packages/numpy/lib/nanfunctions.py:1215: RuntimeWarning: Mean of empty slice\n",
      "  return np.nanmean(a, axis, out=out, keepdims=keepdims)\n",
      "/Library/Frameworks/Python.framework/Versions/3.9/lib/python3.9/site-packages/numpy/lib/nanfunctions.py:1215: RuntimeWarning: Mean of empty slice\n",
      "  return np.nanmean(a, axis, out=out, keepdims=keepdims)\n",
      "/Library/Frameworks/Python.framework/Versions/3.9/lib/python3.9/site-packages/numpy/lib/nanfunctions.py:1215: RuntimeWarning: Mean of empty slice\n",
      "  return np.nanmean(a, axis, out=out, keepdims=keepdims)\n",
      "/Library/Frameworks/Python.framework/Versions/3.9/lib/python3.9/site-packages/numpy/lib/nanfunctions.py:1215: RuntimeWarning: Mean of empty slice\n",
      "  return np.nanmean(a, axis, out=out, keepdims=keepdims)\n",
      "/Library/Frameworks/Python.framework/Versions/3.9/lib/python3.9/site-packages/numpy/lib/nanfunctions.py:1215: RuntimeWarning: Mean of empty slice\n",
      "  return np.nanmean(a, axis, out=out, keepdims=keepdims)\n",
      "/Library/Frameworks/Python.framework/Versions/3.9/lib/python3.9/site-packages/numpy/lib/nanfunctions.py:1215: RuntimeWarning: Mean of empty slice\n",
      "  return np.nanmean(a, axis, out=out, keepdims=keepdims)\n",
      "/Library/Frameworks/Python.framework/Versions/3.9/lib/python3.9/site-packages/numpy/lib/nanfunctions.py:1215: RuntimeWarning: Mean of empty slice\n",
      "  return np.nanmean(a, axis, out=out, keepdims=keepdims)\n",
      "/Library/Frameworks/Python.framework/Versions/3.9/lib/python3.9/site-packages/numpy/lib/nanfunctions.py:1215: RuntimeWarning: Mean of empty slice\n",
      "  return np.nanmean(a, axis, out=out, keepdims=keepdims)\n",
      "/Library/Frameworks/Python.framework/Versions/3.9/lib/python3.9/site-packages/numpy/lib/nanfunctions.py:1215: RuntimeWarning: Mean of empty slice\n",
      "  return np.nanmean(a, axis, out=out, keepdims=keepdims)\n",
      "/Library/Frameworks/Python.framework/Versions/3.9/lib/python3.9/site-packages/numpy/lib/nanfunctions.py:1215: RuntimeWarning: Mean of empty slice\n",
      "  return np.nanmean(a, axis, out=out, keepdims=keepdims)\n",
      "/Library/Frameworks/Python.framework/Versions/3.9/lib/python3.9/site-packages/numpy/lib/nanfunctions.py:1215: RuntimeWarning: Mean of empty slice\n",
      "  return np.nanmean(a, axis, out=out, keepdims=keepdims)\n",
      "/Library/Frameworks/Python.framework/Versions/3.9/lib/python3.9/site-packages/numpy/lib/nanfunctions.py:1215: RuntimeWarning: Mean of empty slice\n",
      "  return np.nanmean(a, axis, out=out, keepdims=keepdims)\n",
      "/Library/Frameworks/Python.framework/Versions/3.9/lib/python3.9/site-packages/numpy/lib/nanfunctions.py:1215: RuntimeWarning: Mean of empty slice\n",
      "  return np.nanmean(a, axis, out=out, keepdims=keepdims)\n",
      "/Library/Frameworks/Python.framework/Versions/3.9/lib/python3.9/site-packages/numpy/lib/nanfunctions.py:1215: RuntimeWarning: Mean of empty slice\n",
      "  return np.nanmean(a, axis, out=out, keepdims=keepdims)\n",
      "/Library/Frameworks/Python.framework/Versions/3.9/lib/python3.9/site-packages/numpy/lib/nanfunctions.py:1215: RuntimeWarning: Mean of empty slice\n",
      "  return np.nanmean(a, axis, out=out, keepdims=keepdims)\n",
      "/Library/Frameworks/Python.framework/Versions/3.9/lib/python3.9/site-packages/numpy/lib/nanfunctions.py:1215: RuntimeWarning: Mean of empty slice\n",
      "  return np.nanmean(a, axis, out=out, keepdims=keepdims)\n",
      "/Library/Frameworks/Python.framework/Versions/3.9/lib/python3.9/site-packages/numpy/lib/nanfunctions.py:1215: RuntimeWarning: Mean of empty slice\n",
      "  return np.nanmean(a, axis, out=out, keepdims=keepdims)\n",
      "/Library/Frameworks/Python.framework/Versions/3.9/lib/python3.9/site-packages/numpy/lib/nanfunctions.py:1215: RuntimeWarning: Mean of empty slice\n",
      "  return np.nanmean(a, axis, out=out, keepdims=keepdims)\n",
      "/Library/Frameworks/Python.framework/Versions/3.9/lib/python3.9/site-packages/numpy/lib/nanfunctions.py:1215: RuntimeWarning: Mean of empty slice\n",
      "  return np.nanmean(a, axis, out=out, keepdims=keepdims)\n",
      "/Library/Frameworks/Python.framework/Versions/3.9/lib/python3.9/site-packages/numpy/lib/nanfunctions.py:1215: RuntimeWarning: Mean of empty slice\n",
      "  return np.nanmean(a, axis, out=out, keepdims=keepdims)\n",
      "/Library/Frameworks/Python.framework/Versions/3.9/lib/python3.9/site-packages/numpy/lib/nanfunctions.py:1215: RuntimeWarning: Mean of empty slice\n",
      "  return np.nanmean(a, axis, out=out, keepdims=keepdims)\n",
      "/Library/Frameworks/Python.framework/Versions/3.9/lib/python3.9/site-packages/numpy/lib/nanfunctions.py:1215: RuntimeWarning: Mean of empty slice\n",
      "  return np.nanmean(a, axis, out=out, keepdims=keepdims)\n",
      "/Library/Frameworks/Python.framework/Versions/3.9/lib/python3.9/site-packages/numpy/lib/nanfunctions.py:1215: RuntimeWarning: Mean of empty slice\n",
      "  return np.nanmean(a, axis, out=out, keepdims=keepdims)\n",
      "/Library/Frameworks/Python.framework/Versions/3.9/lib/python3.9/site-packages/numpy/lib/nanfunctions.py:1215: RuntimeWarning: Mean of empty slice\n",
      "  return np.nanmean(a, axis, out=out, keepdims=keepdims)\n",
      "/Library/Frameworks/Python.framework/Versions/3.9/lib/python3.9/site-packages/numpy/lib/nanfunctions.py:1215: RuntimeWarning: Mean of empty slice\n",
      "  return np.nanmean(a, axis, out=out, keepdims=keepdims)\n"
     ]
    }
   ],
   "source": [
    "# Заполнение медианой по региону\n",
    "columns_to_fill = [\n",
    "    \"children_percent\", \"elderly_percent\", \"working_age_percent\",\n",
    "    \"alcohol_rate\", \"drugs_rate\",\n",
    "    \"total\", \"18_30\", \"31_40\",\n",
    "    \"41_50\", \"51_60\", \"60_\",\n",
    "    \"nominal_wage\", \"real_wage\", \"income_per_capita\", \"real_income\",\n",
    "    \"welfare_percent\", \"population\"\n",
    "]\n",
    "\n",
    "for col in columns_to_fill:\n",
    "    master_df[col] = master_df.groupby(\"region\")[col].transform(lambda x: x.fillna(x.median()))\n",
    "\n",
    "# Удаление сильно повреждённого признака\n",
    "master_df.drop(columns=[\"cases\", \"crime_cases\"], inplace=True, errors=\"ignore\")\n",
    "\n",
    "# Финальное заполнение оставшихся пропусков общей медианой\n",
    "master_df.fillna(master_df.median(numeric_only=True), inplace=True)"
   ]
  },
  {
   "cell_type": "code",
   "execution_count": 56,
   "id": "029747d8",
   "metadata": {},
   "outputs": [],
   "source": [
    "# --- Добавляем производные признаки для дальнейшего анализа ---\n",
    "\n",
    "\n",
    "# Доля иждивенцев: дети + пожилые\n",
    "master_df[\"dependent_percent\"] = (master_df[\"children_percent\"] + master_df[\"elderly_percent\"])\n",
    "\n",
    "# Число инвалидов на 1000 человек населения\n",
    "master_df[\"disabled_rate_per_1000\"] = (master_df[\"total\"] / master_df[\"population\"]) * 1000\n",
    "\n",
    "# Суммарный уровень алкоголизма и наркомании\n",
    "master_df[\"addiction_rate\"] = (master_df[\"alcohol_rate\"] + master_df[\"drugs_rate\"])\n",
    "\n",
    "# Производство на душу населения\n",
    "master_df[\"production_per_capita\"] = (master_df[\"production_total\"] / master_df[\"population\"])\n",
    "\n",
    "# Соотношение бедности и расходов на социальную политику\n",
    "master_df[\"poverty_welfare_ratio\"] = (master_df[\"poverty_percent\"] / master_df[\"welfare_percent\"])\n",
    "\n",
    "# Рождаемость на 1000 человек\n",
    "master_df[\"birth_rate_per_1000\"] = master_df[\"births\"] / master_df[\"population\"] * 1000\n",
    "\n",
    "# Младенческая смертность в селе на 1000 рождений\n",
    "master_df[\"infant_mortality_rural_rate\"] = master_df[\"infant_mortality_rural\"] / master_df[\"births\"] * 1000\n",
    "\n",
    "# Младенческая смертность в городе на 1000 рождений\n",
    "master_df[\"infant_mortality_urban_rate\"] = master_df[\"infant_mortality_urban\"] / master_df[\"births\"] * 1000\n",
    "\n",
    "# Инвалиды 18–30 лет на 1000 населения\n",
    "master_df[\"disabled_18_30_rate\"] = master_df[\"18_30\"] / master_df[\"population\"] * 1000\n",
    "\n",
    "# Инвалиды 31–40 лет на 1000 населения\n",
    "master_df[\"disabled_31_40_rate\"] = master_df[\"31_40\"] / master_df[\"population\"] * 1000\n",
    "\n",
    "# Инвалиды 41–50 лет на 1000 населения\n",
    "master_df[\"disabled_41_50_rate\"] = master_df[\"41_50\"] / master_df[\"population\"] * 1000\n",
    "\n",
    "# Инвалиды 51–60 лет на 1000 населения\n",
    "master_df[\"disabled_51_60_rate\"] = master_df[\"51_60\"] / master_df[\"population\"] * 1000\n",
    "\n",
    "# Инвалиды 60+ лет на 1000 населения\n",
    "master_df[\"disabled_60_plus_rate\"] = master_df[\"60_\"] / master_df[\"population\"] * 1000\n"
   ]
  },
  {
   "cell_type": "code",
   "execution_count": 57,
   "id": "41156bf4",
   "metadata": {},
   "outputs": [],
   "source": [
    "master_df.to_csv(\"../../data/clean/master_dataset_2015_2020.csv\", index=False)"
   ]
  }
 ],
 "metadata": {
  "kernelspec": {
   "display_name": "Python 3",
   "language": "python",
   "name": "python3"
  },
  "language_info": {
   "codemirror_mode": {
    "name": "ipython",
    "version": 3
   },
   "file_extension": ".py",
   "mimetype": "text/x-python",
   "name": "python",
   "nbconvert_exporter": "python",
   "pygments_lexer": "ipython3",
   "version": "3.9.10"
  }
 },
 "nbformat": 4,
 "nbformat_minor": 5
}
